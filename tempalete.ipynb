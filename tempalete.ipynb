{
  "nbformat": 4,
  "nbformat_minor": 0,
  "metadata": {
    "colab": {
      "provenance": [],
      "authorship_tag": "ABX9TyP5DLZmbfPbBROP6GNEJ3Jf",
      "include_colab_link": true
    },
    "kernelspec": {
      "name": "python3",
      "display_name": "Python 3"
    },
    "language_info": {
      "name": "python"
    }
  },
  "cells": [
    {
      "cell_type": "markdown",
      "metadata": {
        "id": "view-in-github",
        "colab_type": "text"
      },
      "source": [
        "<a href=\"https://colab.research.google.com/github/SAFIRBRA/test.colab/blob/main/tempalete.ipynb\" target=\"_parent\"><img src=\"https://colab.research.google.com/assets/colab-badge.svg\" alt=\"Open In Colab\"/></a>"
      ]
    },
    {
      "cell_type": "code",
      "execution_count": 1,
      "metadata": {
        "colab": {
          "base_uri": "https://localhost:8080/"
        },
        "id": "brMenohprf7G",
        "outputId": "7fb3f102-d5f2-40ba-904e-bf8bd9fab4af"
      },
      "outputs": [
        {
          "output_type": "stream",
          "name": "stdout",
          "text": [
            "hello brahim \n"
          ]
        }
      ],
      "source": [
        "print(\"hello brahim \")"
      ]
    },
    {
      "cell_type": "code",
      "source": [
        "print(\"heloo safir\")"
      ],
      "metadata": {
        "colab": {
          "base_uri": "https://localhost:8080/"
        },
        "id": "vOdddsKn4Ssq",
        "outputId": "66d67cd4-348b-49b9-c226-cdae3a4b65ea"
      },
      "execution_count": 2,
      "outputs": [
        {
          "output_type": "stream",
          "name": "stdout",
          "text": [
            "heloo safir\n"
          ]
        }
      ]
    }
  ]
}